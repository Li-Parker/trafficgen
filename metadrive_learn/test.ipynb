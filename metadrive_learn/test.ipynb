{
 "cells": [
  {
   "cell_type": "code",
   "execution_count": 1,
   "metadata": {
    "collapsed": true,
    "ExecuteTime": {
     "end_time": "2024-11-23T05:34:13.725868800Z",
     "start_time": "2024-11-23T05:34:12.038677800Z"
    }
   },
   "outputs": [
    {
     "name": "stdout",
     "output_type": "stream",
     "text": [
      "True\n"
     ]
    }
   ],
   "source": [
    "import torch\n",
    "print(torch.cuda.is_available())"
   ]
  },
  {
   "cell_type": "code",
   "execution_count": 2,
   "outputs": [
    {
     "name": "stdout",
     "output_type": "stream",
     "text": [
      "v0.5.2\n"
     ]
    }
   ],
   "source": [
    "import ding\n",
    "print(ding.__version__)"
   ],
   "metadata": {
    "collapsed": false,
    "ExecuteTime": {
     "end_time": "2024-11-23T05:34:17.014818100Z",
     "start_time": "2024-11-23T05:34:16.987129400Z"
    }
   }
  },
  {
   "cell_type": "code",
   "execution_count": 6,
   "outputs": [
    {
     "name": "stderr",
     "output_type": "stream",
     "text": [
      "\u001B[38;20m[INFO] Environment: MetaDriveEnv\u001B[0m\n",
      "\u001B[38;20m[INFO] MetaDrive version: 0.4.2.3\u001B[0m\n",
      "\u001B[38;20m[INFO] Sensors: [lidar: Lidar(), side_detector: SideDetector(), lane_line_detector: LaneLineDetector()]\u001B[0m\n",
      "\u001B[38;20m[INFO] Render Mode: none\u001B[0m\n",
      "\u001B[38;20m[INFO] Horizon (Max steps per agent): None\u001B[0m\n"
     ]
    },
    {
     "ename": "AssertionError",
     "evalue": "Can not call this API after engine initialization!",
     "output_type": "error",
     "traceback": [
      "\u001B[1;31m---------------------------------------------------------------------------\u001B[0m",
      "\u001B[1;31mAssertionError\u001B[0m                            Traceback (most recent call last)",
      "Cell \u001B[1;32mIn[6], line 2\u001B[0m\n\u001B[0;32m      1\u001B[0m \u001B[38;5;28;01mfrom\u001B[39;00m \u001B[38;5;21;01mmetadrive\u001B[39;00m \u001B[38;5;28;01mimport\u001B[39;00m MetaDriveEnv\n\u001B[1;32m----> 2\u001B[0m env \u001B[38;5;241m=\u001B[39m \u001B[43mMetaDriveEnv\u001B[49m\u001B[43m(\u001B[49m\u001B[43m)\u001B[49m\n\u001B[0;32m      3\u001B[0m obs \u001B[38;5;241m=\u001B[39m env\u001B[38;5;241m.\u001B[39mreset()\n\u001B[0;32m      4\u001B[0m \u001B[38;5;28mprint\u001B[39m(obs)  \u001B[38;5;66;03m# 输出 (259,)\u001B[39;00m\n",
      "File \u001B[1;32mD:\\App-Download\\Anaconda\\Anaconda\\envs\\python39\\lib\\site-packages\\metadrive\\envs\\metadrive_env.py:103\u001B[0m, in \u001B[0;36mMetaDriveEnv.__init__\u001B[1;34m(self, config)\u001B[0m\n\u001B[0;32m    101\u001B[0m \u001B[38;5;28;01mdef\u001B[39;00m \u001B[38;5;21m__init__\u001B[39m(\u001B[38;5;28mself\u001B[39m, config: Union[\u001B[38;5;28mdict\u001B[39m, \u001B[38;5;28;01mNone\u001B[39;00m] \u001B[38;5;241m=\u001B[39m \u001B[38;5;28;01mNone\u001B[39;00m):\n\u001B[0;32m    102\u001B[0m     \u001B[38;5;28mself\u001B[39m\u001B[38;5;241m.\u001B[39mdefault_config_copy \u001B[38;5;241m=\u001B[39m Config(\u001B[38;5;28mself\u001B[39m\u001B[38;5;241m.\u001B[39mdefault_config(), unchangeable\u001B[38;5;241m=\u001B[39m\u001B[38;5;28;01mTrue\u001B[39;00m)\n\u001B[1;32m--> 103\u001B[0m     \u001B[38;5;28;43msuper\u001B[39;49m\u001B[43m(\u001B[49m\u001B[43mMetaDriveEnv\u001B[49m\u001B[43m,\u001B[49m\u001B[43m \u001B[49m\u001B[38;5;28;43mself\u001B[39;49m\u001B[43m)\u001B[49m\u001B[38;5;241;43m.\u001B[39;49m\u001B[38;5;21;43m__init__\u001B[39;49m\u001B[43m(\u001B[49m\u001B[43mconfig\u001B[49m\u001B[43m)\u001B[49m\n\u001B[0;32m    105\u001B[0m     \u001B[38;5;66;03m# scenario setting\u001B[39;00m\n\u001B[0;32m    106\u001B[0m     \u001B[38;5;28mself\u001B[39m\u001B[38;5;241m.\u001B[39mstart_seed \u001B[38;5;241m=\u001B[39m \u001B[38;5;28mself\u001B[39m\u001B[38;5;241m.\u001B[39mstart_index \u001B[38;5;241m=\u001B[39m \u001B[38;5;28mself\u001B[39m\u001B[38;5;241m.\u001B[39mconfig[\u001B[38;5;124m\"\u001B[39m\u001B[38;5;124mstart_seed\u001B[39m\u001B[38;5;124m\"\u001B[39m]\n",
      "File \u001B[1;32mD:\\App-Download\\Anaconda\\Anaconda\\envs\\python39\\lib\\site-packages\\metadrive\\envs\\base_env.py:287\u001B[0m, in \u001B[0;36mBaseEnv.__init__\u001B[1;34m(self, config)\u001B[0m\n\u001B[0;32m    284\u001B[0m global_config \u001B[38;5;241m=\u001B[39m \u001B[38;5;28mself\u001B[39m\u001B[38;5;241m.\u001B[39m_post_process_config(merged_config)\n\u001B[0;32m    286\u001B[0m \u001B[38;5;28mself\u001B[39m\u001B[38;5;241m.\u001B[39mconfig \u001B[38;5;241m=\u001B[39m global_config\n\u001B[1;32m--> 287\u001B[0m \u001B[43minitialize_global_config\u001B[49m\u001B[43m(\u001B[49m\u001B[38;5;28;43mself\u001B[39;49m\u001B[38;5;241;43m.\u001B[39;49m\u001B[43mconfig\u001B[49m\u001B[43m)\u001B[49m\n\u001B[0;32m    289\u001B[0m \u001B[38;5;66;03m# agent check\u001B[39;00m\n\u001B[0;32m    290\u001B[0m \u001B[38;5;28mself\u001B[39m\u001B[38;5;241m.\u001B[39mnum_agents \u001B[38;5;241m=\u001B[39m \u001B[38;5;28mself\u001B[39m\u001B[38;5;241m.\u001B[39mconfig[\u001B[38;5;124m\"\u001B[39m\u001B[38;5;124mnum_agents\u001B[39m\u001B[38;5;124m\"\u001B[39m]\n",
      "File \u001B[1;32mD:\\App-Download\\Anaconda\\Anaconda\\envs\\python39\\lib\\site-packages\\metadrive\\engine\\engine_utils.py:44\u001B[0m, in \u001B[0;36minitialize_global_config\u001B[1;34m(global_config)\u001B[0m\n\u001B[0;32m     40\u001B[0m \u001B[38;5;28;01mdef\u001B[39;00m \u001B[38;5;21minitialize_global_config\u001B[39m(global_config):\n\u001B[0;32m     41\u001B[0m \u001B[38;5;250m    \u001B[39m\u001B[38;5;124;03m\"\"\"\u001B[39;00m\n\u001B[0;32m     42\u001B[0m \u001B[38;5;124;03m    You can, of course, preset the engine config before launching the engine.\u001B[39;00m\n\u001B[0;32m     43\u001B[0m \u001B[38;5;124;03m    \"\"\"\u001B[39;00m\n\u001B[1;32m---> 44\u001B[0m     \u001B[38;5;28;01massert\u001B[39;00m \u001B[38;5;129;01mnot\u001B[39;00m engine_initialized(), \u001B[38;5;124m\"\u001B[39m\u001B[38;5;124mCan not call this API after engine initialization!\u001B[39m\u001B[38;5;124m\"\u001B[39m\n\u001B[0;32m     45\u001B[0m     EngineCore\u001B[38;5;241m.\u001B[39mglobal_config \u001B[38;5;241m=\u001B[39m global_config\n",
      "\u001B[1;31mAssertionError\u001B[0m: Can not call this API after engine initialization!"
     ]
    }
   ],
   "source": [
    "from metadrive import MetaDriveEnv\n",
    "env = MetaDriveEnv()\n",
    "obs = env.reset()\n",
    "print(obs)  # 输出 (259,)"
   ],
   "metadata": {
    "collapsed": false,
    "ExecuteTime": {
     "end_time": "2024-11-23T05:34:53.139511500Z",
     "start_time": "2024-11-23T05:34:53.094507300Z"
    }
   }
  },
  {
   "cell_type": "code",
   "execution_count": null,
   "outputs": [],
   "source": [],
   "metadata": {
    "collapsed": false
   }
  }
 ],
 "metadata": {
  "kernelspec": {
   "display_name": "Python 3",
   "language": "python",
   "name": "python3"
  },
  "language_info": {
   "codemirror_mode": {
    "name": "ipython",
    "version": 2
   },
   "file_extension": ".py",
   "mimetype": "text/x-python",
   "name": "python",
   "nbconvert_exporter": "python",
   "pygments_lexer": "ipython2",
   "version": "2.7.6"
  }
 },
 "nbformat": 4,
 "nbformat_minor": 0
}
