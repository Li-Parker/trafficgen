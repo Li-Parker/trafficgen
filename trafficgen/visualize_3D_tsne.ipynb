{
 "cells": [
  {
   "cell_type": "code",
   "execution_count": 3,
   "id": "b7485b41",
   "metadata": {},
   "outputs": [],
   "source": [
    "from PIL import Image, ImageOps\n",
    "import os\n",
    "import math\n",
    "\n",
    "# Note: run visulize_tsne_points.py first\n",
    "# Folder containing individual images\n",
    "image_folder = './trafficgen/img'\n",
    "image_files = sorted(os.listdir(image_folder), key=lambda x: int(x.split('.')[0]))\n",
    "\n",
    "# Assuming all images have the same size\n",
    "img = Image.open(os.path.join(image_folder, image_files[0]))\n",
    "img_width, img_height = img.size\n",
    "\n",
    "new_width, new_height = 128, 128\n",
    "border_size = 1\n",
    "adjusted_width = new_width - 2 * border_size\n",
    "adjusted_height = new_height - 2 * border_size\n",
    "\n",
    "# Calculate grid size\n",
    "grid_size = math.ceil(math.sqrt(len(image_files)))\n",
    "sprite_dim = grid_size * new_width\n",
    "\n",
    "# Create an empty sprite image\n",
    "sprite_image = Image.new('RGB', (sprite_dim, sprite_dim), color='white')\n",
    "\n",
    "for index, file in enumerate(image_files):\n",
    "    img = Image.open(os.path.join(image_folder, file))\n",
    "    img = img.resize((adjusted_width, adjusted_height), Image.LANCZOS)\n",
    "    \n",
    "    img_with_border = ImageOps.expand(img, border=border_size, fill='black')\n",
    "\n",
    "    \n",
    "    x = (index % grid_size) * new_width\n",
    "    y = (index // grid_size) * new_height\n",
    "    sprite_image.paste(img_with_border, (x, y))\n",
    "\n",
    "sprite_image.save('sprite_image.png')"
   ]
  },
  {
   "cell_type": "code",
   "execution_count": 1,
   "id": "e125846f",
   "metadata": {},
   "outputs": [],
   "source": [
    "import tensorflow as tf\n",
    "from tensorboard.plugins import projector\n",
    "import numpy as np\n",
    "import os\n",
    "\n",
    "# Load your embeddings and metadata\n",
    "embeddings = np.loadtxt('embeddings.tsv', delimiter='\\t')\n",
    "metadata_file = 'metadata.tsv'  # Path to your metadata.tsv\n",
    "\n",
    "log_dir = 'log/emb'\n",
    "\n",
    "weights = tf.Variable(embeddings, name='embedding')\n",
    "checkpoint = tf.train.Checkpoint(embedding=weights)\n",
    "checkpoint.save(os.path.join(log_dir, \"embedding.ckpt\"))\n",
    "\n",
    "config = projector.ProjectorConfig()\n",
    "embedding = config.embeddings.add()\n",
    "embedding.tensor_name = 'embedding/.ATTRIBUTES/VARIABLE_VALUE'\n",
    "embedding.metadata_path = 'metadata.tsv'\n",
    "embedding.sprite.image_path = 'sprite_image.png'\n",
    "embedding.sprite.single_image_dim.extend([128, 128])\n",
    "projector.visualize_embeddings(log_dir, config)"
   ]
  },
  {
   "cell_type": "code",
   "execution_count": 1,
   "id": "8650470f",
   "metadata": {
    "scrolled": true,
    "ExecuteTime": {
     "end_time": "2024-10-16T03:38:38.913503300Z",
     "start_time": "2024-10-16T03:38:33.483082800Z"
    }
   },
   "outputs": [
    {
     "data": {
      "text/plain": "Launching TensorBoard..."
     },
     "metadata": {},
     "output_type": "display_data"
    },
    {
     "ename": "KeyboardInterrupt",
     "evalue": "",
     "output_type": "error",
     "traceback": [
      "\u001B[1;31m---------------------------------------------------------------------------\u001B[0m",
      "\u001B[1;31mKeyboardInterrupt\u001B[0m                         Traceback (most recent call last)",
      "Cell \u001B[1;32mIn[1], line 2\u001B[0m\n\u001B[0;32m      1\u001B[0m get_ipython()\u001B[38;5;241m.\u001B[39mrun_line_magic(\u001B[38;5;124m'\u001B[39m\u001B[38;5;124mreload_ext\u001B[39m\u001B[38;5;124m'\u001B[39m, \u001B[38;5;124m'\u001B[39m\u001B[38;5;124mtensorboard\u001B[39m\u001B[38;5;124m'\u001B[39m)\n\u001B[1;32m----> 2\u001B[0m \u001B[43mget_ipython\u001B[49m\u001B[43m(\u001B[49m\u001B[43m)\u001B[49m\u001B[38;5;241;43m.\u001B[39;49m\u001B[43mrun_line_magic\u001B[49m\u001B[43m(\u001B[49m\u001B[38;5;124;43m'\u001B[39;49m\u001B[38;5;124;43mtensorboard\u001B[39;49m\u001B[38;5;124;43m'\u001B[39;49m\u001B[43m,\u001B[49m\u001B[43m \u001B[49m\u001B[38;5;124;43m'\u001B[39;49m\u001B[38;5;124;43m--logdir log/emb/\u001B[39;49m\u001B[38;5;124;43m'\u001B[39;49m\u001B[43m)\u001B[49m\n",
      "File \u001B[1;32mD:\\App-Download\\Anaconda\\Anaconda\\envs\\trafficgen\\Lib\\site-packages\\IPython\\core\\interactiveshell.py:2480\u001B[0m, in \u001B[0;36mInteractiveShell.run_line_magic\u001B[1;34m(self, magic_name, line, _stack_depth)\u001B[0m\n\u001B[0;32m   2478\u001B[0m     kwargs[\u001B[38;5;124m'\u001B[39m\u001B[38;5;124mlocal_ns\u001B[39m\u001B[38;5;124m'\u001B[39m] \u001B[38;5;241m=\u001B[39m \u001B[38;5;28mself\u001B[39m\u001B[38;5;241m.\u001B[39mget_local_scope(stack_depth)\n\u001B[0;32m   2479\u001B[0m \u001B[38;5;28;01mwith\u001B[39;00m \u001B[38;5;28mself\u001B[39m\u001B[38;5;241m.\u001B[39mbuiltin_trap:\n\u001B[1;32m-> 2480\u001B[0m     result \u001B[38;5;241m=\u001B[39m \u001B[43mfn\u001B[49m\u001B[43m(\u001B[49m\u001B[38;5;241;43m*\u001B[39;49m\u001B[43margs\u001B[49m\u001B[43m,\u001B[49m\u001B[43m \u001B[49m\u001B[38;5;241;43m*\u001B[39;49m\u001B[38;5;241;43m*\u001B[39;49m\u001B[43mkwargs\u001B[49m\u001B[43m)\u001B[49m\n\u001B[0;32m   2482\u001B[0m \u001B[38;5;66;03m# The code below prevents the output from being displayed\u001B[39;00m\n\u001B[0;32m   2483\u001B[0m \u001B[38;5;66;03m# when using magics with decorator @output_can_be_silenced\u001B[39;00m\n\u001B[0;32m   2484\u001B[0m \u001B[38;5;66;03m# when the last Python token in the expression is a ';'.\u001B[39;00m\n\u001B[0;32m   2485\u001B[0m \u001B[38;5;28;01mif\u001B[39;00m \u001B[38;5;28mgetattr\u001B[39m(fn, magic\u001B[38;5;241m.\u001B[39mMAGIC_OUTPUT_CAN_BE_SILENCED, \u001B[38;5;28;01mFalse\u001B[39;00m):\n",
      "File \u001B[1;32mD:\\App-Download\\Anaconda\\Anaconda\\envs\\trafficgen\\Lib\\site-packages\\tensorboard\\notebook.py:117\u001B[0m, in \u001B[0;36m_start_magic\u001B[1;34m(line)\u001B[0m\n\u001B[0;32m    115\u001B[0m \u001B[38;5;28;01mdef\u001B[39;00m \u001B[38;5;21m_start_magic\u001B[39m(line):\n\u001B[0;32m    116\u001B[0m \u001B[38;5;250m    \u001B[39m\u001B[38;5;124;03m\"\"\"Implementation of the `%tensorboard` line magic.\"\"\"\u001B[39;00m\n\u001B[1;32m--> 117\u001B[0m     \u001B[38;5;28;01mreturn\u001B[39;00m \u001B[43mstart\u001B[49m\u001B[43m(\u001B[49m\u001B[43mline\u001B[49m\u001B[43m)\u001B[49m\n",
      "File \u001B[1;32mD:\\App-Download\\Anaconda\\Anaconda\\envs\\trafficgen\\Lib\\site-packages\\tensorboard\\notebook.py:152\u001B[0m, in \u001B[0;36mstart\u001B[1;34m(args_string)\u001B[0m\n\u001B[0;32m    149\u001B[0m         handle\u001B[38;5;241m.\u001B[39mupdate(IPython\u001B[38;5;241m.\u001B[39mdisplay\u001B[38;5;241m.\u001B[39mPretty(message))\n\u001B[0;32m    151\u001B[0m parsed_args \u001B[38;5;241m=\u001B[39m shlex\u001B[38;5;241m.\u001B[39msplit(args_string, comments\u001B[38;5;241m=\u001B[39m\u001B[38;5;28;01mTrue\u001B[39;00m, posix\u001B[38;5;241m=\u001B[39m\u001B[38;5;28;01mTrue\u001B[39;00m)\n\u001B[1;32m--> 152\u001B[0m start_result \u001B[38;5;241m=\u001B[39m \u001B[43mmanager\u001B[49m\u001B[38;5;241;43m.\u001B[39;49m\u001B[43mstart\u001B[49m\u001B[43m(\u001B[49m\u001B[43mparsed_args\u001B[49m\u001B[43m)\u001B[49m\n\u001B[0;32m    154\u001B[0m \u001B[38;5;28;01mif\u001B[39;00m \u001B[38;5;28misinstance\u001B[39m(start_result, manager\u001B[38;5;241m.\u001B[39mStartLaunched):\n\u001B[0;32m    155\u001B[0m     _display(\n\u001B[0;32m    156\u001B[0m         port\u001B[38;5;241m=\u001B[39mstart_result\u001B[38;5;241m.\u001B[39minfo\u001B[38;5;241m.\u001B[39mport,\n\u001B[0;32m    157\u001B[0m         print_message\u001B[38;5;241m=\u001B[39m\u001B[38;5;28;01mFalse\u001B[39;00m,\n\u001B[0;32m    158\u001B[0m         display_handle\u001B[38;5;241m=\u001B[39mhandle,\n\u001B[0;32m    159\u001B[0m     )\n",
      "File \u001B[1;32mD:\\App-Download\\Anaconda\\Anaconda\\envs\\trafficgen\\Lib\\site-packages\\tensorboard\\manager.py:442\u001B[0m, in \u001B[0;36mstart\u001B[1;34m(arguments, timeout)\u001B[0m\n\u001B[0;32m    440\u001B[0m end_time_seconds \u001B[38;5;241m=\u001B[39m start_time_seconds \u001B[38;5;241m+\u001B[39m timeout\u001B[38;5;241m.\u001B[39mtotal_seconds()\n\u001B[0;32m    441\u001B[0m \u001B[38;5;28;01mwhile\u001B[39;00m time\u001B[38;5;241m.\u001B[39mtime() \u001B[38;5;241m<\u001B[39m end_time_seconds:\n\u001B[1;32m--> 442\u001B[0m     \u001B[43mtime\u001B[49m\u001B[38;5;241;43m.\u001B[39;49m\u001B[43msleep\u001B[49m\u001B[43m(\u001B[49m\u001B[43mpoll_interval_seconds\u001B[49m\u001B[43m)\u001B[49m\n\u001B[0;32m    443\u001B[0m     subprocess_result \u001B[38;5;241m=\u001B[39m p\u001B[38;5;241m.\u001B[39mpoll()\n\u001B[0;32m    444\u001B[0m     \u001B[38;5;28;01mif\u001B[39;00m subprocess_result \u001B[38;5;129;01mis\u001B[39;00m \u001B[38;5;129;01mnot\u001B[39;00m \u001B[38;5;28;01mNone\u001B[39;00m:\n",
      "\u001B[1;31mKeyboardInterrupt\u001B[0m: "
     ]
    }
   ],
   "source": [
    "%reload_ext tensorboard\n",
    "%tensorboard --logdir log/emb/"
   ]
  },
  {
   "cell_type": "code",
   "execution_count": 3,
   "outputs": [],
   "source": [
    "import torch\n",
    "device = torch.device('cuda' if torch.cuda.is_available() else  'cpu')\n",
    "default=torch.tensor(0.0, device=device)\n"
   ],
   "metadata": {
    "collapsed": false,
    "ExecuteTime": {
     "end_time": "2024-10-16T03:39:34.911574700Z",
     "start_time": "2024-10-16T03:39:34.780585900Z"
    }
   }
  },
  {
   "cell_type": "code",
   "execution_count": null,
   "outputs": [],
   "source": [],
   "metadata": {
    "collapsed": false
   }
  }
 ],
 "metadata": {
  "kernelspec": {
   "display_name": "Python 3 (ipykernel)",
   "language": "python",
   "name": "python3"
  },
  "language_info": {
   "codemirror_mode": {
    "name": "ipython",
    "version": 3
   },
   "file_extension": ".py",
   "mimetype": "text/x-python",
   "name": "python",
   "nbconvert_exporter": "python",
   "pygments_lexer": "ipython3",
   "version": "3.8.17"
  }
 },
 "nbformat": 4,
 "nbformat_minor": 5
}
