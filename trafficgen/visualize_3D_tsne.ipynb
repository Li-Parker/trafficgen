{
 "cells": [
  {
   "cell_type": "code",
   "execution_count": 1,
   "id": "b7485b41",
   "metadata": {
    "ExecuteTime": {
     "end_time": "2024-11-19T08:28:49.516980500Z",
     "start_time": "2024-11-19T08:28:49.186878900Z"
    }
   },
   "outputs": [
    {
     "ename": "FileNotFoundError",
     "evalue": "[WinError 3] 系统找不到指定的路径。: './trafficgen/img'",
     "output_type": "error",
     "traceback": [
      "\u001B[1;31m---------------------------------------------------------------------------\u001B[0m",
      "\u001B[1;31mFileNotFoundError\u001B[0m                         Traceback (most recent call last)",
      "Cell \u001B[1;32mIn[1], line 8\u001B[0m\n\u001B[0;32m      5\u001B[0m \u001B[38;5;66;03m# Note: run visulize_tsne_points.py first\u001B[39;00m\n\u001B[0;32m      6\u001B[0m \u001B[38;5;66;03m# Folder containing individual images\u001B[39;00m\n\u001B[0;32m      7\u001B[0m image_folder \u001B[38;5;241m=\u001B[39m \u001B[38;5;124m'\u001B[39m\u001B[38;5;124m./trafficgen/img\u001B[39m\u001B[38;5;124m'\u001B[39m\n\u001B[1;32m----> 8\u001B[0m image_files \u001B[38;5;241m=\u001B[39m \u001B[38;5;28msorted\u001B[39m(\u001B[43mos\u001B[49m\u001B[38;5;241;43m.\u001B[39;49m\u001B[43mlistdir\u001B[49m\u001B[43m(\u001B[49m\u001B[43mimage_folder\u001B[49m\u001B[43m)\u001B[49m, key\u001B[38;5;241m=\u001B[39m\u001B[38;5;28;01mlambda\u001B[39;00m x: \u001B[38;5;28mint\u001B[39m(x\u001B[38;5;241m.\u001B[39msplit(\u001B[38;5;124m'\u001B[39m\u001B[38;5;124m.\u001B[39m\u001B[38;5;124m'\u001B[39m)[\u001B[38;5;241m0\u001B[39m]))\n\u001B[0;32m     10\u001B[0m \u001B[38;5;66;03m# Assuming all images have the same size\u001B[39;00m\n\u001B[0;32m     11\u001B[0m img \u001B[38;5;241m=\u001B[39m Image\u001B[38;5;241m.\u001B[39mopen(os\u001B[38;5;241m.\u001B[39mpath\u001B[38;5;241m.\u001B[39mjoin(image_folder, image_files[\u001B[38;5;241m0\u001B[39m]))\n",
      "\u001B[1;31mFileNotFoundError\u001B[0m: [WinError 3] 系统找不到指定的路径。: './trafficgen/img'"
     ]
    }
   ],
   "source": [
    "from PIL import Image, ImageOps\n",
    "import os\n",
    "import math\n",
    "\n",
    "# Note: run visulize_tsne_points.py first\n",
    "# Folder containing individual images\n",
    "image_folder = './trafficgen/img'\n",
    "image_files = sorted(os.listdir(image_folder), key=lambda x: int(x.split('.')[0]))\n",
    "\n",
    "# Assuming all images have the same size\n",
    "img = Image.open(os.path.join(image_folder, image_files[0]))\n",
    "img_width, img_height = img.size\n",
    "\n",
    "new_width, new_height = 128, 128\n",
    "border_size = 1\n",
    "adjusted_width = new_width - 2 * border_size\n",
    "adjusted_height = new_height - 2 * border_size\n",
    "\n",
    "# Calculate grid size\n",
    "grid_size = math.ceil(math.sqrt(len(image_files)))\n",
    "sprite_dim = grid_size * new_width\n",
    "\n",
    "# Create an empty sprite image\n",
    "sprite_image = Image.new('RGB', (sprite_dim, sprite_dim), color='white')\n",
    "\n",
    "for index, file in enumerate(image_files):\n",
    "    img = Image.open(os.path.join(image_folder, file))\n",
    "    img = img.resize((adjusted_width, adjusted_height), Image.LANCZOS)\n",
    "    \n",
    "    img_with_border = ImageOps.expand(img, border=border_size, fill='black')\n",
    "\n",
    "    \n",
    "    x = (index % grid_size) * new_width\n",
    "    y = (index // grid_size) * new_height\n",
    "    sprite_image.paste(img_with_border, (x, y))\n",
    "\n",
    "sprite_image.save('sprite_image.png')"
   ]
  },
  {
   "cell_type": "code",
   "execution_count": null,
   "id": "e125846f",
   "metadata": {},
   "outputs": [],
   "source": [
    "import tensorflow as tf\n",
    "from tensorboard.plugins import projector\n",
    "import numpy as np\n",
    "import os\n",
    "\n",
    "# Load your embeddings and metadata\n",
    "embeddings = np.loadtxt('embeddings.tsv', delimiter='\\t')\n",
    "metadata_file = 'metadata.tsv'  # Path to your metadata.tsv\n",
    "\n",
    "log_dir = 'log/emb'\n",
    "\n",
    "weights = tf.Variable(embeddings, name='embedding')\n",
    "checkpoint = tf.train.Checkpoint(embedding=weights)\n",
    "checkpoint.save(os.path.join(log_dir, \"embedding.ckpt\"))\n",
    "\n",
    "config = projector.ProjectorConfig()\n",
    "embedding = config.embeddings.add()\n",
    "embedding.tensor_name = 'embedding/.ATTRIBUTES/VARIABLE_VALUE'\n",
    "embedding.metadata_path = 'metadata.tsv'\n",
    "embedding.sprite.image_path = 'sprite_image.png'\n",
    "embedding.sprite.single_image_dim.extend([128, 128])\n",
    "projector.visualize_embeddings(log_dir, config)"
   ]
  },
  {
   "cell_type": "code",
   "execution_count": null,
   "id": "8650470f",
   "metadata": {
    "scrolled": true
   },
   "outputs": [],
   "source": [
    "%reload_ext tensorboard\n",
    "%tensorboard --logdir log/emb/"
   ]
  },
  {
   "cell_type": "code",
   "execution_count": null,
   "outputs": [],
   "source": [
    "import torch\n",
    "device = torch.device('cuda' if torch.cuda.is_available() else  'cpu')\n",
    "default=torch.tensor(0.0, device=device)\n"
   ],
   "metadata": {
    "collapsed": false
   }
  },
  {
   "cell_type": "code",
   "execution_count": null,
   "outputs": [],
   "source": [],
   "metadata": {
    "collapsed": false
   }
  }
 ],
 "metadata": {
  "kernelspec": {
   "display_name": "Python 3 (ipykernel)",
   "language": "python",
   "name": "python3"
  },
  "language_info": {
   "codemirror_mode": {
    "name": "ipython",
    "version": 3
   },
   "file_extension": ".py",
   "mimetype": "text/x-python",
   "name": "python",
   "nbconvert_exporter": "python",
   "pygments_lexer": "ipython3",
   "version": "3.8.17"
  }
 },
 "nbformat": 4,
 "nbformat_minor": 5
}
