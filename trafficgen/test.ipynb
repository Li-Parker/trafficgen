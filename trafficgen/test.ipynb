{
 "cells": [
  {
   "cell_type": "code",
   "execution_count": 6,
   "metadata": {
    "collapsed": true,
    "ExecuteTime": {
     "end_time": "2024-10-22T10:16:06.887389200Z",
     "start_time": "2024-10-22T10:16:06.881939600Z"
    }
   },
   "outputs": [
    {
     "name": "stdout",
     "output_type": "stream",
     "text": [
      "tensor([[[0.8903, 0.3637, 0.2271],\n",
      "         [0.1411, 0.1474, 0.4463]],\n",
      "\n",
      "        [[0.5119, 0.6947, 0.1550],\n",
      "         [0.8227, 0.8504, 0.6307]],\n",
      "\n",
      "        [[0.8054, 0.3368, 0.6048],\n",
      "         [0.7877, 0.9162, 0.5057]]])\n",
      "tensor([[[0.9499],\n",
      "         [0.7141]],\n",
      "\n",
      "        [[0.9082],\n",
      "         [1.2928]],\n",
      "\n",
      "        [[1.0857],\n",
      "         [1.2471]]], grad_fn=<ViewBackward0>)\n"
     ]
    }
   ],
   "source": [
    "import torch\n",
    "MLP = torch.nn.Linear(in_features=3, out_features=1)\n",
    "data = torch.rand(size=(3,2,3))\n",
    "print(data)\n",
    "print(MLP.forward(data))"
   ]
  },
  {
   "cell_type": "code",
   "execution_count": 10,
   "outputs": [
    {
     "name": "stdout",
     "output_type": "stream",
     "text": [
      "tensor([[[3, 6, 7, 7],\n",
      "         [0, 7, 5, 8],\n",
      "         [9, 9, 1, 0]],\n",
      "\n",
      "        [[1, 6, 1, 3],\n",
      "         [7, 3, 4, 7],\n",
      "         [4, 7, 1, 7]]])\n",
      "tensor([[[0, 9, 6, 3]],\n",
      "\n",
      "        [[5, 9, 6, 4]]])\n",
      "tensor([[[ 0, 54, 42, 21],\n",
      "         [ 0, 63, 30, 24],\n",
      "         [ 0, 81,  6,  0]],\n",
      "\n",
      "        [[ 5, 54,  6, 12],\n",
      "         [35, 27, 24, 28],\n",
      "         [20, 63,  6, 28]]])\n"
     ]
    }
   ],
   "source": [
    "a = torch.randint(low=0,high=10,size=(2,3,4))\n",
    "print(a)\n",
    "b = torch.randint(low=0,high=10,size=(2,1,4))\n",
    "print(b)\n",
    "print(a*b)"
   ],
   "metadata": {
    "collapsed": false,
    "ExecuteTime": {
     "end_time": "2024-10-22T10:20:53.082253600Z",
     "start_time": "2024-10-22T10:20:53.067238900Z"
    }
   }
  },
  {
   "cell_type": "code",
   "execution_count": null,
   "outputs": [],
   "source": [],
   "metadata": {
    "collapsed": false
   }
  }
 ],
 "metadata": {
  "kernelspec": {
   "display_name": "Python 3",
   "language": "python",
   "name": "python3"
  },
  "language_info": {
   "codemirror_mode": {
    "name": "ipython",
    "version": 2
   },
   "file_extension": ".py",
   "mimetype": "text/x-python",
   "name": "python",
   "nbconvert_exporter": "python",
   "pygments_lexer": "ipython2",
   "version": "2.7.6"
  }
 },
 "nbformat": 4,
 "nbformat_minor": 0
}
